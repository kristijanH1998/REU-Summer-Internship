{
 "cells": [
  {
   "cell_type": "code",
   "execution_count": 1,
   "metadata": {},
   "outputs": [
    {
     "name": "stdout",
     "output_type": "stream",
     "text": [
      "Total number of hotspots: 144\n",
      "Number of hotspots transferring data: 66, percentage: 0.458333\n"
     ]
    }
   ],
   "source": [
    "#This program outputs number and percentage of hotspots providing data transfer for a chosen locaiton (20 mile radius)\n",
    "\n",
    "import pickle\n",
    "import numpy as np\n",
    "import json\n",
    "\n",
    "file = open(\"seattleWA_dataPerAddress_20mile.pkl\", 'rb')\n",
    "loadedDPA = pickle.load(file)\n",
    "#print(loadedDPA)\n",
    "data_transfer = 0\n",
    "num = 0\n",
    "for key,value in loadedDPA.items():\n",
    "    num +=1\n",
    "    if value != [0, 0, 0, 0, 0, 0, 0, 0, 0,]:\n",
    "        data_transfer += 1\n",
    "print(\"Total number of hotspots: %d\" % num)\n",
    "prc = data_transfer/num\n",
    "print(\"Number of hotspots transferring data: %d, percentage: %f\" % (data_transfer,prc))\n",
    "loadedDPA.clear()"
   ]
  },
  {
   "cell_type": "code",
   "execution_count": null,
   "metadata": {},
   "outputs": [],
   "source": []
  }
 ],
 "metadata": {
  "kernelspec": {
   "display_name": "Python 3",
   "language": "python",
   "name": "python3"
  },
  "language_info": {
   "codemirror_mode": {
    "name": "ipython",
    "version": 3
   },
   "file_extension": ".py",
   "mimetype": "text/x-python",
   "name": "python",
   "nbconvert_exporter": "python",
   "pygments_lexer": "ipython3",
   "version": "3.8.5"
  }
 },
 "nbformat": 4,
 "nbformat_minor": 4
}
