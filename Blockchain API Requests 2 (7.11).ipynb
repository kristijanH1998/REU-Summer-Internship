{
 "cells": [
  {
   "cell_type": "code",
   "execution_count": 86,
   "metadata": {
    "scrolled": true
   },
   "outputs": [
    {
     "name": "stdout",
     "output_type": "stream",
     "text": [
      "   a  b   c\n",
      "1  4  7  10\n",
      "2  5  8  11\n",
      "3  6  9  12\n",
      "     a  b   c  d\n",
      "n v             \n",
      "d 1  4  7  10  1\n",
      "  2  5  8  11  2\n",
      "e 2  6  9  12  3\n",
      "   a  b   c  Volume\n",
      "1  4  7  10     280\n",
      "2  5  8  11     440\n",
      "3  6  9  12     648\n",
      "   length  width  species\n",
      "0     5.1    3.5        0\n",
      "1     4.9    3.0        0\n",
      "2     7.0    3.2        1\n",
      "3     6.4    3.2        1\n",
      "4     5.9    3.0        2\n"
     ]
    },
    {
     "data": {
      "image/png": "[encoded data removed]",
      "text/plain": [
       "<Figure size 432x288 with 1 Axes>"
      ]
     },
     "metadata": {
      "needs_background": "light"
     },
     "output_type": "display_data"
    },
    {
     "data": {
      "image/png": "[encoded data removed]",
      "text/plain": [
       "<Figure size 432x288 with 1 Axes>"
      ]
     },
     "metadata": {
      "needs_background": "light"
     },
     "output_type": "display_data"
    }
   ],
   "source": [
    "import pandas as pd\n",
    "\n",
    "\n",
    "df = pd.DataFrame(\n",
    "[[4, 7, 10],\n",
    "[5, 8, 11],\n",
    "[6, 9, 12]],\n",
    "index=[1, 2, 3],\n",
    "columns=['a', 'b', 'c'])\n",
    "print (df)\n",
    "\n",
    "df2 = pd.DataFrame(\n",
    "    {\"a\" : [4 ,5, 6],\n",
    "     \"b\" : [7, 8, 9],\n",
    "     \"c\" : [10, 11, 12],\n",
    "     \"d\" : [1,2,3]},\n",
    "index = pd.MultiIndex.from_tuples(\n",
    "    [('d', 1), ('d', 2),\n",
    "     ('e', 2)], names=['n', 'v']))\n",
    "print(df2)\n",
    "pd.concat([df, df2])\n",
    "df['Volume'] = df.a*df.b*df.c\n",
    "print(df)\n",
    "df.plot.scatter(x='a',y='b')\n",
    "\n",
    "df3 = pd.DataFrame([[5.1, 3.5, 0], [4.9, 3.0, 0], [7.0, 3.2, 1],\n",
    "                    [6.4, 3.2, 1], [5.9, 3.0, 2]],\n",
    "                   columns=['length', 'width', 'species'])\n",
    "print(df3)\n",
    "ax1 = df3.plot.scatter(x='length',\n",
    "                       y='width',\n",
    "                       c='Red')"
   ]
  },
  {
   "cell_type": "code",
   "execution_count": 26,
   "metadata": {
    "scrolled": false
   },
   "outputs": [
    {
     "name": "stdout",
     "output_type": "stream",
     "text": [
      "{\n",
      "  \"data\": [\n",
      "    {\n",
      "      \"lng\": -76.30692769417374,\n",
      "      \"lat\": 36.88281961725549,\n",
      "      \"distance\": 281.8904378,\n",
      "      \"timestamp_added\": \"2021-11-05T19:38:00.000000Z\",\n",
      "      \"status\": {\n",
      "        \"timestamp\": \"2022-07-07T01:43:38.952000Z\",\n",
      "        \"online\": \"offline\",\n",
      "        \"listen_addrs\": [\n",
      "          \"/ip4/71.206.164.143/tcp/44158\"\n",
      "        ],\n",
      "        \"height\": 1428617\n",
      "      },\n",
      "      \"reward_scale\": 0.5518798828125,\n",
      "      \"payer\": \"14sKWeeYWQWrBSnLGq79uRQqZyw3Ldi7oBdxbF6a54QboTNBXDL\",\n",
      "      \"owner\": \"14VGUFrJuCAKi83fxC1vmRxHdtQ2rTYYApWPJqDeJs2BxHPe2wA\",\n",
      "      \"nonce\": 2,\n",
      "      \"name\": \"polished-cinnabar-ladybug\",\n",
      "      \"mode\": \"full\",\n",
      "      \"location_hex\": \"882af62335fffff\",\n",
      "      \"location\": \"8c2af623349c9ff\",\n",
      "      \"last_poc_challenge\": 1429302,\n",
      "      \"last_change_block\": 1429305,\n",
      "      \"geocode\": {\n",
      "        \"short_street\": \"W 42nd St\",\n",
      "        \"short_state\": \"VA\",\n",
      "        \"short_country\": \"US\",\n",
      "        \"short_city\": \"Norfolk\",\n",
      "        \"long_street\": \"West 42nd Street\",\n",
      "        \"long_state\": \"Virginia\",\n",
      "        \"long_country\": \"United States\",\n",
      "        \"long_city\": \"Norfolk\",\n",
      "        \"city_id\": \"bm9yZm9sa3ZpcmdpbmlhdW5pdGVkIHN0YXRlcw\"\n",
      "      },\n",
      "      \"gain\": 40,\n",
      "      \"elevation\": 5,\n",
      "      \"block_added\": 1085952,\n",
      "      \"block\": 1436176,\n",
      "      \"address\": \"112m6fmmfxUyJMLxqdedBC8cZtwTyHH3oxNcpnuvv1UXAKVm2iCC\"\n",
      "    },\n",
      "    {\n",
      "      \"lng\": -76.30385440413401,\n",
      "      \"lat\": 36.88276471938817,\n",
      "      \"distance\": 419.96596311,\n",
      "      \"timestamp_added\": \"2021-10-22T18:19:14.000000Z\",\n",
      "      \"status\": {\n",
      "        \"timestamp\": \"2022-07-09T23:16:19.717000Z\",\n",
      "        \"online\": \"online\",\n",
      "        \"listen_addrs\": [\n",
      "          \"/p2p/112GJ2i98kaRFpAjY7UcU42rqRx28BDDiATu9tHBHHy6g1Hyn13J/p2p-circuit/p2p/112j53ANZ3FVdDAVYEaXBKsPfBtu59kqdqjqHxTe4hEfD4mGvj2T\"\n",
      "        ],\n",
      "        \"height\": 1433527\n",
      "      },\n",
      "      \"reward_scale\": 0.543853759765625,\n",
      "      \"payer\": \"13ENbEQPAvytjLnqavnbSAzurhGoCSNkGECMx7eHHDAfEaDirdY\",\n",
      "      \"owner\": \"13fm7Rde5v4jLdbU7Sa6psk8gQFHp1CPpykyjLUDYQhz4UCzTQt\",\n",
      "      \"nonce\": 4,\n",
      "      \"name\": \"attractive-ceramic-opossum\",\n",
      "      \"mode\": \"full\",\n",
      "      \"location_hex\": \"882af62335fffff\",\n",
      "      \"location\": \"8c2af623341e7ff\",\n",
      "      \"last_poc_challenge\": 1435462,\n",
      "      \"last_change_block\": 1435465,\n",
      "      \"geocode\": {\n",
      "        \"short_street\": \"W 42nd St\",\n",
      "        \"short_state\": \"VA\",\n",
      "        \"short_country\": \"US\",\n",
      "        \"short_city\": \"Norfolk\",\n",
      "        \"long_street\": \"West 42nd Street\",\n",
      "        \"long_state\": \"Virginia\",\n",
      "        \"long_country\": \"United States\",\n",
      "        \"long_city\": \"Norfolk\",\n",
      "        \"city_id\": \"bm9yZm9sa3ZpcmdpbmlhdW5pdGVkIHN0YXRlcw\"\n",
      "      },\n",
      "      \"gain\": 23,\n",
      "      \"elevation\": 5,\n",
      "      \"block_added\": 1065670,\n",
      "      \"block\": 1436176,\n",
      "      \"address\": \"112j53ANZ3FVdDAVYEaXBKsPfBtu59kqdqjqHxTe4hEfD4mGvj2T\"\n",
      "    },\n",
      "    {\n",
      "      \"lng\": -76.30994030803049,\n",
      "      \"lat\": 36.889183620934354,\n",
      "      \"distance\": 486.82674321,\n",
      "      \"timestamp_added\": \"2022-01-08T16:54:42.000000Z\",\n",
      "      \"status\": {\n",
      "        \"timestamp\": \"2022-07-11T12:01:28.254000Z\",\n",
      "        \"online\": \"online\",\n",
      "        \"listen_addrs\": [\n",
      "          \"/ip4/70.174.99.11/tcp/44158\"\n",
      "        ],\n",
      "        \"height\": 1435649\n",
      "      },\n",
      "      \"reward_scale\": 0.5605316162109375,\n",
      "      \"payer\": \"13y2EqUUzyQhQGtDSoXktz8m5jHNSiwAKLTYnHNxZq2uH5GGGym\",\n",
      "      \"owner\": \"13KVjsekgBRqjbzsfk3f7QV9ERUHeWZncrP7WkUwxWuWnJr21XP\",\n",
      "      \"nonce\": 2,\n",
      "      \"name\": \"docile-seaweed-otter\",\n",
      "      \"mode\": \"full\",\n",
      "      \"location_hex\": \"882af62149fffff\",\n",
      "      \"location\": \"8c2af6214926dff\",\n",
      "      \"last_poc_challenge\": 1435313,\n",
      "      \"last_change_block\": 1435313,\n",
      "      \"geocode\": {\n",
      "        \"short_street\": \"Cedar Ln\",\n",
      "        \"short_state\": \"VA\",\n",
      "        \"short_country\": \"US\",\n",
      "        \"short_city\": \"Norfolk\",\n",
      "        \"long_street\": \"Cedar Lane\",\n",
      "        \"long_state\": \"Virginia\",\n",
      "        \"long_country\": \"United States\",\n",
      "        \"long_city\": \"Norfolk\",\n",
      "        \"city_id\": \"bm9yZm9sa3ZpcmdpbmlhdW5pdGVkIHN0YXRlcw\"\n",
      "      },\n",
      "      \"gain\": 80,\n",
      "      \"elevation\": 5,\n",
      "      \"block_added\": 1171841,\n",
      "      \"block\": 1436176,\n",
      "      \"address\": \"112kB6UPkSyNhtVs52mbbfB8bemL5WwyRgBR53L96Ld6agHZyese\"\n",
      "    }\n",
      "  ]\n",
      "}\n",
      "['112m6fmmfxUyJMLxqdedBC8cZtwTyHH3oxNcpnuvv1UXAKVm2iCC', '112j53ANZ3FVdDAVYEaXBKsPfBtu59kqdqjqHxTe4hEfD4mGvj2T', '112kB6UPkSyNhtVs52mbbfB8bemL5WwyRgBR53L96Ld6agHZyese']\n",
      "Total packets transferred:  92\n",
      "DCs earned:  92\n",
      "Bytes transferred: 2208\n"
     ]
    }
   ],
   "source": [
    "import requests\n",
    "import json\n",
    "\n",
    "# Code in ln 5-12 loops over cursors\n",
    "# url = \"https://api.helium.io/v1/hotspots/112kB6UPkSyNhtVs52mbbfB8bemL5WwyRgBR53L96Ld6agHZyese/activity/?cursor=eyJ0eXBlcyI6WyJjb2luYmFzZV92MSIsInNlY3VyaXR5X2NvaW5iYXNlX3YxIiwib3VpX3YxIiwic3RhdGVfY2hhbm5lbF9vcGVuX3YxIiwic3RhdGVfY2hhbm5lbF9jbG9zZV92MSIsImdlbl9nYXRld2F5X3YxIiwicm91dGluZ192MSIsInBheW1lbnRfdjEiLCJzZWN1cml0eV9leGNoYW5nZV92MSIsImNvbnNlbnN1c19ncm91cF92MSIsImFkZF9nYXRld2F5X3YxIiwiYXNzZXJ0X2xvY2F0aW9uX3YxIiwiYXNzZXJ0X2xvY2F0aW9uX3YyIiwiY3JlYXRlX2h0bGNfdjEiLCJyZWRlZW1faHRsY192MSIsInBvY19yZXF1ZXN0X3YxIiwicG9jX3JlY2VpcHRzX3YxIiwicG9jX3JlY2VpcHRzX3YyIiwidmFyc192MSIsInJld2FyZHNfdjEiLCJyZXdhcmRzX3YyIiwidG9rZW5fYnVybl92MSIsImRjX2NvaW5iYXNlX3YxIiwidG9rZW5fYnVybl9leGNoYW5nZV9yYXRlX3YxIiwicGF5bWVudF92MiIsInByaWNlX29yYWNsZV92MSIsInRyYW5zZmVyX2hvdHNwb3RfdjEiLCJ0cmFuc2Zlcl9ob3RzcG90X3YyIiwiZ2VuX3ZhbGlkYXRvcl92MSIsInN0YWtlX3ZhbGlkYXRvcl92MSIsInVuc3Rha2VfdmFsaWRhdG9yX3YxIiwidHJhbnNmZXJfdmFsaWRhdG9yX3N0YWtlX3YxIiwidmFsaWRhdG9yX2hlYXJ0YmVhdF92MSIsImNvbnNlbnN1c19ncm91cF9mYWlsdXJlX3YxIl0sIm1pbl9ibG9jayI6MTE3MTg0MSwibWF4X2Jsb2NrIjoxNDE2OTM4LCJibG9jayI6MTQxNjkwMCwiYW5jaG9yX2Jsb2NrIjoxNDE2OTAwfQ\"\n",
    "# dict = json.loads(requests.get(url).text)\n",
    "# print(json.dumps(dict, indent = 2))\n",
    "\n",
    "##while(dict['cursor']):\n",
    "    ##url = \"https://api.helium.io/v1/hotspots/112kB6UPkSyNhtVs52mbbfB8bemL5WwyRgBR53L96Ld6agHZyese/activity/?\" + \"cursor=\" + dict['cursor']\n",
    "    ##dict = json.loads(requests.get(url).text)\n",
    "    ##print(json.dumps(dict, indent = 2))\n",
    "    \n",
    "# url = \"https://api.helium.io/v1/hotspots/112kB6UPkSyNhtVs52mbbfB8bemL5WwyRgBR53L96Ld6agHZyese/roles/?cursor=eyJ0eXBlcyI6WyJjb2luYmFzZV92MSIsInNlY3VyaXR5X2NvaW5iYXNlX3YxIiwib3VpX3YxIiwic3RhdGVfY2hhbm5lbF9vcGVuX3YxIiwic3RhdGVfY2hhbm5lbF9jbG9zZV92MSIsImdlbl9nYXRld2F5X3YxIiwicm91dGluZ192MSIsInBheW1lbnRfdjEiLCJzZWN1cml0eV9leGNoYW5nZV92MSIsImNvbnNlbnN1c19ncm91cF92MSIsImFkZF9nYXRld2F5X3YxIiwiYXNzZXJ0X2xvY2F0aW9uX3YxIiwiYXNzZXJ0X2xvY2F0aW9uX3YyIiwiY3JlYXRlX2h0bGNfdjEiLCJyZWRlZW1faHRsY192MSIsInBvY19yZXF1ZXN0X3YxIiwicG9jX3JlY2VpcHRzX3YxIiwicG9jX3JlY2VpcHRzX3YyIiwidmFyc192MSIsInJld2FyZHNfdjEiLCJyZXdhcmRzX3YyIiwidG9rZW5fYnVybl92MSIsImRjX2NvaW5iYXNlX3YxIiwidG9rZW5fYnVybl9leGNoYW5nZV9yYXRlX3YxIiwicGF5bWVudF92MiIsInByaWNlX29yYWNsZV92MSIsInRyYW5zZmVyX2hvdHNwb3RfdjEiLCJ0cmFuc2Zlcl9ob3RzcG90X3YyIiwiZ2VuX3ZhbGlkYXRvcl92MSIsInN0YWtlX3ZhbGlkYXRvcl92MSIsInVuc3Rha2VfdmFsaWRhdG9yX3YxIiwidHJhbnNmZXJfdmFsaWRhdG9yX3N0YWtlX3YxIiwidmFsaWRhdG9yX2hlYXJ0YmVhdF92MSIsImNvbnNlbnN1c19ncm91cF9mYWlsdXJlX3YxIl0sIm1pbl9ibG9jayI6MTE3MTg0MSwibWF4X2Jsb2NrIjoxNDI0MTg2LCJibG9jayI6MTQyNDEwMCwiYW5jaG9yX2Jsb2NrIjoxNDI0MTAwfQ\"\n",
    "# dict = json.loads(requests.get(url).text)\n",
    "# print(json.dumps(dict, indent = 2))\n",
    "\n",
    "# url = \"https://api.helium.io/v1/hotspots/112kB6UPkSyNhtVs52mbbfB8bemL5WwyRgBR53L96Ld6agHZyese/activity/?filter_types=rewards_v2&cursor=eyJ0eXBlcyI6WyJyZXdhcmRzX3YyIl0sIm1pbl9ibG9jayI6MTE3MTg0MSwibWF4X2Jsb2NrIjoxNDI1NjcxLCJibG9jayI6MTQyNTYwMCwiYW5jaG9yX2Jsb2NrIjoxNDI1NjAwfQ\"\n",
    "# dict = json.loads(requests.get(url).text)\n",
    "# print(json.dumps(dict, indent = 2))\n",
    "\n",
    "\n",
    "# url = \"https://api.helium.io/v1/hotspots/11MrT1pSG7JZS51KBtieiHkAT9LCQvfkafa7qmEzcqoZVPc5M5w/roles/count\"\n",
    "# dict = json.loads(requests.get(url).text)\n",
    "# print(json.dumps(dict[\"data\"][\"state_channel_close_v1\"], indent = 2))\n",
    "# print(json.dumps(dict[\"data\"], indent = 2))\n",
    "\n",
    "url = \"https://api.helium.io/v1/hotspots/location/distance/?lat=36.885343&lon=-76.307307&distance=500\"\n",
    "dict1 = json.loads(requests.get(url).text)\n",
    "print(json.dumps(dict1, indent = 2))\n",
    "\n",
    "the_list = []\n",
    "for i in range(len(dict1['data'])):\n",
    "    the_list.append(dict1['data'][i]['address']) \n",
    "print(the_list)\n",
    "\n",
    "\n",
    "\n",
    "\n",
    "\n",
    "\n",
    "\n",
    "\n",
    "\n",
    "\n",
    "\n",
    "url = \"https://api.helium.io/v1/hotspots/11MrT1pSG7JZS51KBtieiHkAT9LCQvfkafa7qmEzcqoZVPc5M5w/activity/?filter_types=state_channel_close_v1&min_time=2022-07-03T00:00:01Z&max_time=2022-07-11T23:59:59Z\"\n",
    "dict = json.loads(requests.get(url).text)\n",
    "\n",
    "if \"cursor\" in dict:\n",
    "    url = \"https://api.helium.io/v1/hotspots/11MrT1pSG7JZS51KBtieiHkAT9LCQvfkafa7qmEzcqoZVPc5M5w/activity/?filter_types=state_channel_close_v1&min_time=2022-07-03T00:00:01Z&max_time=2022-07-11T23:59:59Z&\" + \"cursor=\" + dict['cursor']\n",
    "    dict = json.loads(requests.get(url).text)\n",
    "else:\n",
    "    for i in range(len(dict['data'])):\n",
    "        sum = sum + dict['data'][i]['state_channel']['summaries'][0]['num_packets']\n",
    "\n",
    "sum = 0\n",
    "while \"cursor\" in dict:\n",
    "\n",
    "    for i in range(len(dict['data'])):\n",
    "        sum = sum + dict['data'][i]['state_channel']['summaries'][0]['num_packets']\n",
    "    url = \"https://api.helium.io/v1/hotspots/11MrT1pSG7JZS51KBtieiHkAT9LCQvfkafa7qmEzcqoZVPc5M5w/activity/?filter_types=state_channel_close_v1&min_time=2022-07-03T00:00:01Z&max_time=2022-07-11T23:59:59Z&\" + \"cursor=\" + dict['cursor']\n",
    "    dict = json.loads(requests.get(url).text)\n",
    "\n",
    "if \"cursor\" not in dict:\n",
    "    for i in range(len(dict['data'])):\n",
    "        sum = sum + dict['data'][i]['state_channel']['summaries'][0]['num_packets']\n",
    "\n",
    "# for i in range(len(dict['data'])):\n",
    "#     print(dict['data'][i]['state_channel']['summaries'][0]['num_packets'])\n",
    "\n",
    "dict.clear()\n",
    "\n",
    "print(\"Total packets transferred: %3d\" %(sum))\n",
    "print(\"DCs earned: %3d\" %(sum))\n",
    "print(\"Bytes transferred: %3d\" %(sum * 24))\n"
   ]
  },
  {
   "cell_type": "code",
   "execution_count": 27,
   "metadata": {},
   "outputs": [
    {
     "name": "stdout",
     "output_type": "stream",
     "text": [
      "dict_keys(['11MrT1pSG7JZS51KBtieiHkAT9LCQvfkafa7qmEzcqoZVPc5M5w', '11yWfEwtSGLw3Vdh4iWgqnuKXRxELUkwN2v5wmB32UaRkq2YQWE'])\n",
      "Current address:  11MrT1pSG7JZS51KBtieiHkAT9LCQvfkafa7qmEzcqoZVPc5M5w\n",
      "[85, 50, 39, 136, 249, 212, 112, 31, 92]\n"
     ]
    },
    {
     "data": {
      "image/png": "[encoded data removed]",
      "text/plain": [
       "<Figure size 432x288 with 1 Axes>"
      ]
     },
     "metadata": {
      "needs_background": "light"
     },
     "output_type": "display_data"
    },
    {
     "data": {
      "image/png": "[encoded data removed]",
      "text/plain": [
       "<Figure size 432x288 with 1 Axes>"
      ]
     },
     "metadata": {
      "needs_background": "light"
     },
     "output_type": "display_data"
    },
    {
     "name": "stdout",
     "output_type": "stream",
     "text": [
      "Current address:  11yWfEwtSGLw3Vdh4iWgqnuKXRxELUkwN2v5wmB32UaRkq2YQWE\n",
      "[0, 0, 0, 0, 0, 0, 0, 0, 0]\n"
     ]
    },
    {
     "data": {
      "image/png": "[encoded data removed]",
      "text/plain": [
       "<Figure size 432x288 with 1 Axes>"
      ]
     },
     "metadata": {
      "needs_background": "light"
     },
     "output_type": "display_data"
    },
    {
     "data": {
      "image/png": "[encoded data removed]",
      "text/plain": [
       "<Figure size 432x288 with 1 Axes>"
      ]
     },
     "metadata": {
      "needs_background": "light"
     },
     "output_type": "display_data"
    }
   ],
   "source": [
    "import pandas as pd\n",
    "import time\n",
    "from datetime import date, timedelta\n",
    "import requests\n",
    "import json\n",
    "from matplotlib import pyplot as plt\n",
    "\n",
    "url = \"https://api.helium.io/v1/hotspots/location/distance/?lat=36.871342&lon=-76.278701&distance=200\"\n",
    "dict1 = json.loads(requests.get(url).text)\n",
    "# print(json.dumps(dict1, indent = 2))\n",
    "\n",
    "minTime = []\n",
    "maxTime = []\n",
    "current_date = date.today()\n",
    "\n",
    "for i in range(1,10):\n",
    "    maxTime.append(current_date)\n",
    "    priorDate = current_date-timedelta(days=7)\n",
    "    minTime.append(priorDate)\n",
    "    current_date = priorDate    \n",
    "\n",
    "\n",
    "dataPerAddress = {}\n",
    "for i in range(len(dict1['data'])):\n",
    "    dataPerAddress[dict1['data'][i]['address']] = []\n",
    "print(dataPerAddress.keys())\n",
    "\n",
    "sum1 = 0\n",
    "# sum2 = 0\n",
    "# sum3 = 0\n",
    "cursor = ''\n",
    "for a in dataPerAddress:\n",
    "    print(\"Current address: \", a)\n",
    "    for t in range(len(minTime)):            \n",
    "        url = \"https://api.helium.io/v1/hotspots/\"+a+\"/activity/?filter_types=state_channel_close_v1&min_time=\"+str(minTime[t])+\"T00:00:01Z&max_time=\"+str(maxTime[t])+\"T23:59:59Z\"\n",
    "        dict = json.loads(requests.get(url).text)\n",
    "        time.sleep(1)\n",
    "        while \"cursor\" in dict:\n",
    "            for i in range(len(dict['data'])):            \n",
    "                sum1 = sum1 + dict['data'][i]['state_channel']['summaries'][0]['num_packets']\n",
    "            cursor = dict['cursor']\n",
    "            url = \"https://api.helium.io/v1/hotspots/\"+a+\"/activity/?filter_types=state_channel_close_v1&min_time=\"+str(minTime[t])+\"T00:00:01Z&max_time=\"+str(maxTime[t])+\"T23:59:59Z\"\n",
    "            url = url + \"&cursor=\" + cursor\n",
    "            dict = json.loads(requests.get(url).text)\n",
    "            time.sleep(1)\n",
    "        else:\n",
    "            for i in range(len(dict['data'])):            \n",
    "                sum1 = sum1 + dict['data'][i]['state_channel']['summaries'][0]['num_packets']\n",
    "\n",
    "        dataPerAddress[a].append(sum1)\n",
    "        sum1 = 0\n",
    "    dataPerAddress[a].reverse()\n",
    "    print(dataPerAddress[a])\n",
    "    plt.plot(dataPerAddress[a])\n",
    "    plt.show()\n",
    "    plt.bar(range(9), dataPerAddress[a])\n",
    "    plt.show()\n",
    "\n",
    "        \n",
    "dict1.clear()\n",
    "\n",
    "#         print(\"Total packets: %3d, %3d, %3d\" %(sum1, sum2, sum3))\n",
    "#         print(\"Total packets transferred: %3d\" %(sum))\n",
    "#         print(\"DCs earned: %3d\" %(sum))\n",
    "#         print(\"Bytes transferred: %3d\" %(sum * 24))\n",
    "#         dataPerAddress[a].append((sum1+sum2+sum3))\n",
    "#         sum = 0\n",
    "#         sum1 = 0\n",
    "#         sum2 = 0\n",
    "#         sum3 = 0\n"
   ]
  },
  {
   "cell_type": "code",
   "execution_count": 22,
   "metadata": {},
   "outputs": [
    {
     "name": "stdout",
     "output_type": "stream",
     "text": [
      "{\n",
      "  \"data\": [\n",
      "    {\n",
      "      \"type\": \"state_channel_close_v1\",\n",
      "      \"time\": 1657580684,\n",
      "      \"state_channel\": {\n",
      "        \"summaries\": [\n",
      "          {\n",
      "            \"owner\": \"14pqRVEWoui2YiNBd1uWfqc2isT5E6J8qRzJy984BCxbjEYu9iC\",\n",
      "            \"num_packets\": 6,\n",
      "            \"num_dcs\": 6,\n",
      "            \"location\": \"8c2af6206d529ff\",\n",
      "            \"client\": \"11MrT1pSG7JZS51KBtieiHkAT9LCQvfkafa7qmEzcqoZVPc5M5w\"\n",
      "          }\n",
      "        ],\n",
      "        \"state\": \"closed\",\n",
      "        \"root_hash\": \"OigiviZtqejsteKWu3LugJRgR1a0PWgIYwDMbfPNcQY\",\n",
      "        \"owner\": \"11w77YQLhgUt8HUJrMtntGGr97RyXmot1ofs5Ct2ELTmbFoYsQa\",\n",
      "        \"nonce\": 9797,\n",
      "        \"id\": \"imif3MV_grJv-rudRRdoGin6ri2V-hvoZW-liUpO-_0\",\n",
      "        \"expire_at_block\": 1436038\n",
      "      },\n",
      "      \"height\": 1436042,\n",
      "      \"hash\": \"swujtc9UtBpdAHAPWM3KVtg8RRcl8yOXi0BlJD5_m-s\",\n",
      "      \"conflicts_with\": null,\n",
      "      \"closer\": \"11w77YQLhgUt8HUJrMtntGGr97RyXmot1ofs5Ct2ELTmbFoYsQa\"\n",
      "    }\n",
      "  ],\n",
      "  \"cursor\": \"eyJ0eXBlcyI6WyJzdGF0ZV9jaGFubmVsX2Nsb3NlX3YxIl0sIm1pbl9ibG9jayI6MTQzMzU4NiwibWF4X2Jsb2NrIjoxNDM2MDk4LCJibG9jayI6MTQzNjAwMCwiYW5jaG9yX2Jsb2NrIjoxNDM2MDAwfQ\"\n",
      "}\n"
     ]
    }
   ],
   "source": [
    "url = \"https://api.helium.io/v1/hotspots/11MrT1pSG7JZS51KBtieiHkAT9LCQvfkafa7qmEzcqoZVPc5M5w/activity/?filter_types=state_channel_close_v1&min_time=2022-07-10T00:00:01Z&max_time=2022-07-11T23:59:59Z\"\n",
    "dict = json.loads(requests.get(url).text)\n",
    "print(json.dumps(dict, indent = 2))\n"
   ]
  },
  {
   "cell_type": "code",
   "execution_count": null,
   "metadata": {},
   "outputs": [],
   "source": []
  }
 ],
 "metadata": {
  "kernelspec": {
   "display_name": "Python 3",
   "language": "python",
   "name": "python3"
  },
  "language_info": {
   "codemirror_mode": {
    "name": "ipython",
    "version": 3
   },
   "file_extension": ".py",
   "mimetype": "text/x-python",
   "name": "python",
   "nbconvert_exporter": "python",
   "pygments_lexer": "ipython3",
   "version": "3.8.5"
  }
 },
 "nbformat": 4,
 "nbformat_minor": 4
}
