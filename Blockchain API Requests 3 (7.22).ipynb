{
 "cells": [
  {
   "cell_type": "code",
   "execution_count": 67,
   "metadata": {},
   "outputs": [
    {
     "name": "stdout",
     "output_type": "stream",
     "text": [
      "11MrT1pSG7JZS51KBtieiHkAT9LCQvfkafa7qmEzcqoZVPc5M5w\n",
      "{\n",
      "  \"meta\": {\n",
      "    \"min_time\": \"2021-07-21T00:00:00Z\",\n",
      "    \"max_time\": \"2022-07-21T23:59:00Z\"\n",
      "  },\n",
      "  \"data\": {\n",
      "    \"total\": 44.23973914,\n",
      "    \"sum\": 4423973914,\n",
      "    \"stddev\": 0.012515328822,\n",
      "    \"min\": 0.0,\n",
      "    \"median\": 0.010095075,\n",
      "    \"max\": 0.0,\n",
      "    \"avg\": 0.01295074330796253\n",
      "  }\n",
      "}\n",
      "11yWfEwtSGLw3Vdh4iWgqnuKXRxELUkwN2v5wmB32UaRkq2YQWE\n",
      "{\n",
      "  \"meta\": {\n",
      "    \"min_time\": \"2021-07-21T00:00:00Z\",\n",
      "    \"max_time\": \"2022-07-21T23:59:00Z\"\n",
      "  },\n",
      "  \"data\": {\n",
      "    \"total\": 40.66643938,\n",
      "    \"sum\": 4066643938,\n",
      "    \"stddev\": 0.030087504211,\n",
      "    \"min\": 0.0,\n",
      "    \"median\": 0.0133962,\n",
      "    \"max\": 0.0,\n",
      "    \"avg\": 0.026355437057679846\n",
      "  }\n",
      "}\n",
      "113rdGpZkFNybwdZTi9B2o1GbysioAV4btPDX5uM2zfNcKDhfvQ\n",
      "{\n",
      "  \"meta\": {\n",
      "    \"min_time\": \"2021-07-21T00:00:00Z\",\n",
      "    \"max_time\": \"2022-07-21T23:59:00Z\"\n",
      "  },\n",
      "  \"data\": {\n",
      "    \"total\": 30.04680363,\n",
      "    \"sum\": 3004680363,\n",
      "    \"stddev\": 0.012408514411,\n",
      "    \"min\": 0.0,\n",
      "    \"median\": 0.010619655,\n",
      "    \"max\": 0.0,\n",
      "    \"avg\": 0.014685632272727272\n",
      "  }\n",
      "}\n",
      "{'11MrT1pSG7JZS51KBtieiHkAT9LCQvfkafa7qmEzcqoZVPc5M5w': ['mini-steel-weasel', 44.23973914], '11yWfEwtSGLw3Vdh4iWgqnuKXRxELUkwN2v5wmB32UaRkq2YQWE': ['early-mocha-otter', 40.66643938], '113rdGpZkFNybwdZTi9B2o1GbysioAV4btPDX5uM2zfNcKDhfvQ': ['round-fuzzy-beetle', 30.04680363]}\n"
     ]
    }
   ],
   "source": [
    "import requests\n",
    "import json\n",
    "from matplotlib import pyplot as plt\n",
    "\n",
    "url = \"https://api.helium.io/v1/hotspots/location/distance/?lat=36.871342&lon=-76.278701&distance=450\"\n",
    "dict1 = json.loads(requests.get(url).text)\n",
    "\n",
    "hotspots = {}\n",
    "for num in range(len(dict1['data'])):\n",
    "    hotspots[dict1['data'][num]['address']] = [dict1['data'][num]['name']]\n",
    "\n",
    "    \n",
    "    \n",
    "addresses = []\n",
    "\n",
    "for i in range(len(dict1['data'])):\n",
    "    addresses.append([dict1['data'][i]['address']])   \n",
    "# print(addresses)    \n",
    "\n",
    "for a in addresses:\n",
    "    print(a[0])\n",
    "    url = \"https://api.helium.io/v1/hotspots/\" + a[0] + \"/rewards/sum/?min_time=2021-07-21T00:00:01Z&max_time=2022-07-21T23:59:59Z\"\n",
    "    dict = json.loads(requests.get(url).text)\n",
    "    print(json.dumps(dict, indent = 2))\n",
    "    hotspots[a[0]].append(dict['data']['total'])\n",
    "\n",
    "print(hotspots)"
   ]
  },
  {
   "cell_type": "code",
   "execution_count": null,
   "metadata": {},
   "outputs": [],
   "source": []
  }
 ],
 "metadata": {
  "kernelspec": {
   "display_name": "Python 3",
   "language": "python",
   "name": "python3"
  },
  "language_info": {
   "codemirror_mode": {
    "name": "ipython",
    "version": 3
   },
   "file_extension": ".py",
   "mimetype": "text/x-python",
   "name": "python",
   "nbconvert_exporter": "python",
   "pygments_lexer": "ipython3",
   "version": "3.8.5"
  }
 },
 "nbformat": 4,
 "nbformat_minor": 4
}
