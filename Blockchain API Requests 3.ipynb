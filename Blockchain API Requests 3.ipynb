{
 "cells": [
  {
   "cell_type": "code",
   "execution_count": 90,
   "metadata": {},
   "outputs": [
    {
     "name": "stdout",
     "output_type": "stream",
     "text": [
      "[['11MrT1pSG7JZS51KBtieiHkAT9LCQvfkafa7qmEzcqoZVPc5M5w'], ['11yWfEwtSGLw3Vdh4iWgqnuKXRxELUkwN2v5wmB32UaRkq2YQWE']]\n",
      "11MrT1pSG7JZS51KBtieiHkAT9LCQvfkafa7qmEzcqoZVPc5M5w\n",
      "{\n",
      "  \"meta\": {\n",
      "    \"min_time\": \"2022-06-21T00:00:00Z\",\n",
      "    \"max_time\": \"2022-07-21T23:59:00Z\"\n",
      "  },\n",
      "  \"data\": {\n",
      "    \"total\": 4.56093623,\n",
      "    \"sum\": 456093623,\n",
      "    \"stddev\": 0.010748727013,\n",
      "    \"min\": 0.0,\n",
      "    \"median\": 0.00961635,\n",
      "    \"max\": 0.0,\n",
      "    \"avg\": 0.011233833078817734\n",
      "  }\n",
      "}\n",
      "11yWfEwtSGLw3Vdh4iWgqnuKXRxELUkwN2v5wmB32UaRkq2YQWE\n",
      "{\n",
      "  \"meta\": {\n",
      "    \"min_time\": \"2022-06-21T00:00:00Z\",\n",
      "    \"max_time\": \"2022-07-21T23:59:00Z\"\n",
      "  },\n",
      "  \"data\": {\n",
      "    \"total\": 0.0,\n",
      "    \"sum\": 0,\n",
      "    \"stddev\": 0.0,\n",
      "    \"min\": 0.0,\n",
      "    \"median\": 0.0,\n",
      "    \"max\": 0.0,\n",
      "    \"avg\": 0.0\n",
      "  }\n",
      "}\n"
     ]
    }
   ],
   "source": [
    "import requests\n",
    "import json\n",
    "from matplotlib import pyplot as plt\n",
    "\n",
    "url = \"https://api.helium.io/v1/hotspots/location/distance/?lat=36.871342&lon=-76.278701&distance=200\"\n",
    "dict1 = json.loads(requests.get(url).text)\n",
    "\n",
    "hotspot_names = []\n",
    "for num in range(len(dict1['data'])):\n",
    "    hotspot_names.append(dict1['data'][num]['name'])\n",
    "addresses = []\n",
    "for i in range(len(dict1['data'])):\n",
    "    addresses.append([dict1['data'][i]['address']])   \n",
    "print(addresses)    \n",
    "for a in addresses:\n",
    "    print(a[0])\n",
    "    url = \"https://api.helium.io/v1/hotspots/\" + a[0] + \"/rewards/sum/?min_time=2022-06-21T00:00:01Z&max_time=2022-07-21T23:59:59Z\"\n",
    "    dict = json.loads(requests.get(url).text)\n",
    "    print(json.dumps(dict, indent = 2))\n",
    "    \n",
    "\n"
   ]
  },
  {
   "cell_type": "code",
   "execution_count": null,
   "metadata": {},
   "outputs": [],
   "source": []
  }
 ],
 "metadata": {
  "kernelspec": {
   "display_name": "Python 3",
   "language": "python",
   "name": "python3"
  },
  "language_info": {
   "codemirror_mode": {
    "name": "ipython",
    "version": 3
   },
   "file_extension": ".py",
   "mimetype": "text/x-python",
   "name": "python",
   "nbconvert_exporter": "python",
   "pygments_lexer": "ipython3",
   "version": "3.8.5"
  }
 },
 "nbformat": 4,
 "nbformat_minor": 4
}
